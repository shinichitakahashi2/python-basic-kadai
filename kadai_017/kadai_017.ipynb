{
  "nbformat": 4,
  "nbformat_minor": 0,
  "metadata": {
    "colab": {
      "provenance": []
    },
    "kernelspec": {
      "name": "python3",
      "display_name": "Python 3"
    },
    "language_info": {
      "name": "python"
    }
  },
  "cells": [
    {
      "cell_type": "code",
      "execution_count": 47,
      "metadata": {
        "colab": {
          "base_uri": "https://localhost:8080/"
        },
        "id": "LWJzM811ozzL",
        "outputId": "49b2914c-726f-46cf-c66e-8fc3a0a1e577"
      },
      "outputs": [
        {
          "output_type": "stream",
          "name": "stdout",
          "text": [
            "1歳は大人でない\n",
            "2歳は大人でない\n",
            "3歳は大人でない\n",
            "4歳は大人でない\n",
            "5歳は大人でない\n",
            "6歳は大人でない\n",
            "7歳は大人でない\n",
            "8歳は大人でない\n",
            "9歳は大人でない\n",
            "10歳は大人でない\n",
            "11歳は大人でない\n",
            "12歳は大人でない\n",
            "13歳は大人でない\n",
            "14歳は大人でない\n",
            "15歳は大人でない\n",
            "16歳は大人でない\n",
            "17歳は大人でない\n",
            "18歳は大人でない\n",
            "19歳は大人でない\n",
            "20歳は大人\n",
            "21歳は大人\n",
            "22歳は大人\n",
            "23歳は大人\n",
            "24歳は大人\n",
            "25歳は大人\n",
            "26歳は大人\n",
            "27歳は大人\n",
            "28歳は大人\n",
            "29歳は大人\n"
          ]
        }
      ],
      "source": [
        "class human:\n",
        "  def _init_(self):\n",
        "    self.age = 0\n",
        "\n",
        "  def check_adult(self,age):\n",
        "    self.age = age\n",
        "    if self.age >= 20:\n",
        "      return \"大人\"\n",
        "    else:\n",
        "      return \"大人でない\"\n",
        "\n",
        "for i in range(1,30):\n",
        "  human_result = human().check_adult(i)\n",
        "  print(f\"{i}歳は{human_result}\")\n",
        "\n",
        "\n",
        "\n"
      ]
    }
  ]
}