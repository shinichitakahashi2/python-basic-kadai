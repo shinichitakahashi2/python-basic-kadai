{
 "cells": [
  {
   "cell_type": "code",
   "execution_count": 17,
   "id": "2b1dc5ff",
   "metadata": {},
   "outputs": [
    {
     "name": "stdout",
     "output_type": "stream",
     "text": [
      "sayaka 12\n"
     ]
    }
   ],
   "source": [
    "class human:\n",
    "  def _init_(self):\n",
    "    self.name = \"\"\n",
    "    self.age = 0\n",
    "    \n",
    "  def printinfo(self,name,age):\n",
    "    self.name = name\n",
    "    self.age = age\n",
    "    print(self.name,age)\n",
    "\n",
    "human1 = human()\n",
    "\n",
    "human1.printinfo(\"sayaka\",12)\n",
    "\n",
    "\n"
   ]
  }
 ],
 "metadata": {
  "kernelspec": {
   "display_name": ".venv",
   "language": "python",
   "name": "python3"
  },
  "language_info": {
   "codemirror_mode": {
    "name": "ipython",
    "version": 3
   },
   "file_extension": ".py",
   "mimetype": "text/x-python",
   "name": "python",
   "nbconvert_exporter": "python",
   "pygments_lexer": "ipython3",
   "version": "3.13.3"
  }
 },
 "nbformat": 4,
 "nbformat_minor": 5
}
