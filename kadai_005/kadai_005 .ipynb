{
  "cells": [
    {
      "cell_type": "code",
      "execution_count": null,
      "metadata": {
        "colab": {
          "base_uri": "https://localhost:8080/"
        },
        "id": "aZ1J57d5XgZF",
        "outputId": "5edc7d55-d73b-4bfa-cded-f102870fdb3d"
      },
      "outputs": [
        {
          "name": "stdout",
          "output_type": "stream",
          "text": [
            "台形の面積: 75.0 cm²\n"
          ]
        }
      ],
      "source": [
        "top_base = 10  # 上辺\n",
        "bottom_base = 20  # 下辺\n",
        "height = 5  # 高さ\n",
        "\n",
        "area = (top_base + bottom_base) * height / 2\n",
        "\n",
        "print(f\"台形の面積:{area}cm²\")"
      ]
    },
    {
      "cell_type": "code",
      "execution_count": 6,
      "metadata": {
        "id": "C76Ex0k7Vwd6"
      },
      "outputs": [],
      "source": []
    }
  ],
  "metadata": {
    "colab": {
      "provenance": [],
      "toc_visible": true
    },
    "kernelspec": {
      "display_name": "Python 3",
      "name": "python3"
    },
    "language_info": {
      "name": "python"
    }
  },
  "nbformat": 4,
  "nbformat_minor": 0
}
