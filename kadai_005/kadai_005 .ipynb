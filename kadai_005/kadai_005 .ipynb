{
  "nbformat": 4,
  "nbformat_minor": 0,
  "metadata": {
    "colab": {
      "provenance": [],
      "toc_visible": true
    },
    "kernelspec": {
      "name": "python3",
      "display_name": "Python 3"
    },
    "language_info": {
      "name": "python"
    }
  },
  "cells": [
    {
      "cell_type": "code",
      "source": [
        "top_base = 10  # 上辺\n",
        "bottom_base = 20  # 下辺\n",
        "height = 5  # 高さ\n",
        "\n",
        "area = (top_base + bottom_base) * height / 2\n",
        "\n",
        "print(\"台形の面積:\", area, \"cm²\")"
      ],
      "metadata": {
        "colab": {
          "base_uri": "https://localhost:8080/"
        },
        "id": "aZ1J57d5XgZF",
        "outputId": "5edc7d55-d73b-4bfa-cded-f102870fdb3d"
      },
      "execution_count": 10,
      "outputs": [
        {
          "output_type": "stream",
          "name": "stdout",
          "text": [
            "台形の面積: 75.0 cm²\n"
          ]
        }
      ]
    },
    {
      "cell_type": "code",
      "source": [],
      "metadata": {
        "id": "C76Ex0k7Vwd6"
      },
      "execution_count": 6,
      "outputs": []
    }
  ]
}