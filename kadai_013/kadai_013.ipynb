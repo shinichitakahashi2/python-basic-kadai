{
  "nbformat": 4,
  "nbformat_minor": 0,
  "metadata": {
    "colab": {
      "provenance": []
    },
    "kernelspec": {
      "name": "python3",
      "display_name": "Python 3"
    },
    "language_info": {
      "name": "python"
    }
  },
  "cells": [
    {
      "cell_type": "code",
      "execution_count": 5,
      "metadata": {
        "id": "mRJCi7uy6MRl"
      },
      "outputs": [],
      "source": [
        "def calc_tax(price:int,tax:int):\n",
        "    price_tax = price + price * (tax/100)\n",
        "    return price_tax"
      ]
    },
    {
      "cell_type": "code",
      "source": [
        "calc_tax(110,10)"
      ],
      "metadata": {
        "colab": {
          "base_uri": "https://localhost:8080/"
        },
        "id": "nz6nE0au69p6",
        "outputId": "cb593ca3-a64f-48cc-d33d-892ed7260f8e"
      },
      "execution_count": 6,
      "outputs": [
        {
          "output_type": "execute_result",
          "data": {
            "text/plain": [
              "121.0"
            ]
          },
          "metadata": {},
          "execution_count": 6
        }
      ]
    }
  ]
}